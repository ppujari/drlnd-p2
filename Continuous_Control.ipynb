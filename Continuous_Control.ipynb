{
 "cells": [
  {
   "cell_type": "markdown",
   "metadata": {},
   "source": [
    "# Continuous Control\n",
    "\n",
    "---\n",
    "\n",
    "In this notebook, you will learn how to use the Unity ML-Agents environment for the second project of the [Deep Reinforcement Learning Nanodegree](https://www.udacity.com/course/deep-reinforcement-learning-nanodegree--nd893) program.\n",
    "\n",
    "### 1. Start the Environment\n",
    "\n",
    "We begin by importing the necessary packages.  If the code cell below returns an error, please revisit the project instructions to double-check that you have installed [Unity ML-Agents](https://github.com/Unity-Technologies/ml-agents/blob/master/docs/Installation.md) and [NumPy](http://www.numpy.org/)."
   ]
  },
  {
   "cell_type": "code",
   "execution_count": 1,
   "metadata": {},
   "outputs": [],
   "source": [
    "from unityagents import UnityEnvironment\n",
    "import numpy as np\n",
    "import torch\n",
    "from collections import deque\n",
    "\n",
    "import matplotlib.pyplot as plt\n",
    "%matplotlib inline\n",
    "\n",
    "from ddpg_agent import Agent"
   ]
  },
  {
   "cell_type": "markdown",
   "metadata": {},
   "source": [
    "Next, we will start the environment!  **_Before running the code cell below_**, change the `file_name` parameter to match the location of the Unity environment that you downloaded.\n",
    "\n",
    "- **Mac**: `\"path/to/Reacher.app\"`\n",
    "- **Windows** (x86): `\"path/to/Reacher_Windows_x86/Reacher.exe\"`\n",
    "- **Windows** (x86_64): `\"path/to/Reacher_Windows_x86_64/Reacher.exe\"`\n",
    "- **Linux** (x86): `\"path/to/Reacher_Linux/Reacher.x86\"`\n",
    "- **Linux** (x86_64): `\"path/to/Reacher_Linux/Reacher.x86_64\"`\n",
    "- **Linux** (x86, headless): `\"path/to/Reacher_Linux_NoVis/Reacher.x86\"`\n",
    "- **Linux** (x86_64, headless): `\"path/to/Reacher_Linux_NoVis/Reacher.x86_64\"`\n",
    "\n",
    "For instance, if you are using a Mac, then you downloaded `Reacher.app`.  If this file is in the same folder as the notebook, then the line below should appear as follows:\n",
    "```\n",
    "env = UnityEnvironment(file_name=\"Reacher.app\")\n",
    "```"
   ]
  },
  {
   "cell_type": "code",
   "execution_count": 2,
   "metadata": {},
   "outputs": [
    {
     "name": "stderr",
     "output_type": "stream",
     "text": [
      "INFO:unityagents:\n",
      "'Academy' started successfully!\n",
      "Unity Academy name: Academy\n",
      "        Number of Brains: 1\n",
      "        Number of External Brains : 1\n",
      "        Lesson number : 0\n",
      "        Reset Parameters :\n",
      "\t\tgoal_speed -> 1.0\n",
      "\t\tgoal_size -> 5.0\n",
      "Unity brain name: ReacherBrain\n",
      "        Number of Visual Observations (per agent): 0\n",
      "        Vector Observation space type: continuous\n",
      "        Vector Observation space size (per agent): 33\n",
      "        Number of stacked Vector Observation: 1\n",
      "        Vector Action space type: continuous\n",
      "        Vector Action space size (per agent): 4\n",
      "        Vector Action descriptions: , , , \n"
     ]
    }
   ],
   "source": [
    "#single agent\n",
    "env = UnityEnvironment(file_name='../reacher_1_agent/Reacher', worker_id=0, seed=2)\n",
    "## 20 agents\n",
    "#env = UnityEnvironment(file_name='../Reacher', worker_id=0, seed=2)\n"
   ]
  },
  {
   "cell_type": "markdown",
   "metadata": {},
   "source": [
    "Environments contain **_brains_** which are responsible for deciding the actions of their associated agents. Here we check for the first brain available, and set it as the default brain we will be controlling from Python."
   ]
  },
  {
   "cell_type": "code",
   "execution_count": 3,
   "metadata": {},
   "outputs": [],
   "source": [
    "# get the default brain\n",
    "brain_name = env.brain_names[0]\n",
    "brain = env.brains[brain_name]"
   ]
  },
  {
   "cell_type": "markdown",
   "metadata": {},
   "source": [
    "### 2. Examine the State and Action Spaces\n",
    "\n",
    "In this environment, a double-jointed arm can move to target locations. A reward of `+0.1` is provided for each step that the agent's hand is in the goal location. Thus, the goal of your agent is to maintain its position at the target location for as many time steps as possible.\n",
    "\n",
    "The observation space consists of `33` variables corresponding to position, rotation, velocity, and angular velocities of the arm.  Each action is a vector with four numbers, corresponding to torque applicable to two joints.  Every entry in the action vector must be a number between `-1` and `1`.\n",
    "\n",
    "The simulation contains `20` identical agents, each with its own copy of the environment.\n",
    "\n",
    "Run the code cell below to print some information about the environment."
   ]
  },
  {
   "cell_type": "code",
   "execution_count": 4,
   "metadata": {},
   "outputs": [
    {
     "name": "stdout",
     "output_type": "stream",
     "text": [
      "Number of agents: 1\n",
      "Size of each action: 4\n",
      "There are 1 agents. Each observes a state with length: 33\n",
      "The state for the first agent looks like: [ 0.00000000e+00 -4.00000000e+00  0.00000000e+00  1.00000000e+00\n",
      " -0.00000000e+00 -0.00000000e+00 -4.37113883e-08  0.00000000e+00\n",
      "  0.00000000e+00  0.00000000e+00  0.00000000e+00  0.00000000e+00\n",
      "  0.00000000e+00  0.00000000e+00 -1.00000000e+01  0.00000000e+00\n",
      "  1.00000000e+00 -0.00000000e+00 -0.00000000e+00 -4.37113883e-08\n",
      "  0.00000000e+00  0.00000000e+00  0.00000000e+00  0.00000000e+00\n",
      "  0.00000000e+00  0.00000000e+00 -1.39619827e-01 -1.00000000e+00\n",
      " -7.99878168e+00  0.00000000e+00  1.00000000e+00  0.00000000e+00\n",
      "  8.00664425e-01]\n"
     ]
    }
   ],
   "source": [
    "# reset the environment\n",
    "env_info = env.reset(train_mode=True)[brain_name]\n",
    "\n",
    "# number of agents\n",
    "num_agents = len(env_info.agents)\n",
    "print('Number of agents:', num_agents)\n",
    "\n",
    "# size of each action\n",
    "action_size = brain.vector_action_space_size\n",
    "print('Size of each action:', action_size)\n",
    "\n",
    "# examine the state space \n",
    "states = env_info.vector_observations\n",
    "state_size = states.shape[1]\n",
    "print('There are {} agents. Each observes a state with length: {}'.format(states.shape[0], state_size))\n",
    "print('The state for the first agent looks like:', states[0])"
   ]
  },
  {
   "cell_type": "markdown",
   "metadata": {},
   "source": [
    "### 3. Take Random Actions in the Environment\n",
    "\n",
    "In the next code cell, you will learn how to use the Python API to control the agent and receive feedback from the environment.\n",
    "\n",
    "Once this cell is executed, you will watch the agent's performance, if it selects an action at random with each time step.  A window should pop up that allows you to observe the agent, as it moves through the environment.  \n",
    "\n",
    "Of course, as part of the project, you'll have to change the code so that the agent is able to use its experience to gradually choose better actions when interacting with the environment!"
   ]
  },
  {
   "cell_type": "code",
   "execution_count": null,
   "metadata": {},
   "outputs": [],
   "source": [
    "env_info = env.reset(train_mode=False)[brain_name]     # reset the environment    \n",
    "states = env_info.vector_observations                  # get the current state (for each agent)\n",
    "scores = np.zeros(num_agents)                          # initialize the score (for each agent)\n",
    "while True:\n",
    "    actions = np.random.randn(num_agents, action_size) # select an action (for each agent)\n",
    "    actions = np.clip(actions, -1, 1)                  # all actions between -1 and 1\n",
    "    env_info = env.step(actions)[brain_name]           # send all actions to tne environment\n",
    "    next_states = env_info.vector_observations         # get next state (for each agent)\n",
    "    rewards = env_info.rewards                         # get reward (for each agent)\n",
    "    dones = env_info.local_done                        # see if episode finished\n",
    "    scores += env_info.rewards                         # update the score (for each agent)\n",
    "    states = next_states                               # roll over states to next time step\n",
    "    if np.any(dones):                                  # exit loop if episode finished\n",
    "        break\n",
    "print('Total score (averaged over agents) this episode: {}'.format(np.mean(scores)))"
   ]
  },
  {
   "cell_type": "markdown",
   "metadata": {},
   "source": [
    "When finished, you can close the environment."
   ]
  },
  {
   "cell_type": "code",
   "execution_count": 5,
   "metadata": {},
   "outputs": [],
   "source": [
    "agent = Agent(state_size=state_size, action_size=action_size, random_seed=2)"
   ]
  },
  {
   "cell_type": "markdown",
   "metadata": {},
   "source": [
    "### 4. It's Your Turn!\n",
    "\n",
    "Now it's your turn to train your own agent to solve the environment!  When training the environment, set `train_mode=True`, so that the line for resetting the environment looks like the following:\n",
    "```python\n",
    "env_info = env.reset(train_mode=True)[brain_name]\n",
    "```"
   ]
  },
  {
   "cell_type": "code",
   "execution_count": 5,
   "metadata": {},
   "outputs": [],
   "source": [
    "def ddpg(n_episodes=150, max_t=500):\n",
    "    avg_score = []\n",
    "    chkpt_episodes = 50\n",
    "    scores_deque = deque(maxlen=100)\n",
    "    scores = np.zeros(num_agents)\n",
    "    time_steps = 20\n",
    "    num_update = 10\n",
    "    len_agents = len(str(num_agents))\n",
    "    \n",
    "    env_solv = False\n",
    "    env_info = env.reset(train_mode=True)[brain_name]\n",
    "    \n",
    "    states = env_info.vector_observations\n",
    "    \n",
    "    agent_kwargs = {\"state_size\": state_size, \"action_size\": action_size, \"random_seed\": 2,}\n",
    "    agents = [Agent(**agent_kwargs) for _ in range(num_agents)]\n",
    "    assert len(agents) == num_agents\n",
    "    action = [agent.act(states[idx]) for idx, agent in enumerate(agents)]\n",
    "\n",
    "    \n",
    "    \n",
    "    for i_episode in range(1, n_episodes+1):\n",
    "        states = env_info.vector_observations                  # get the current state (for each agent)\n",
    "        for agent in agents:\n",
    "            agent.reset()\n",
    "\n",
    "        for t in range(max_t):\n",
    "            actions = [agent.act(states[idx]) for idx, agent in enumerate(agents)]\n",
    "            \n",
    "            env_info = env.step(actions)[brain_name]\n",
    "            next_states = env_info.vector_observations         # get next state (for each agent)\n",
    "            rewards = env_info.rewards                         # get reward (for each agent)\n",
    "            dones = env_info.local_done                        # see if episode finished\n",
    "            \n",
    "            step_tuple = zip(agents, states, actions, rewards, next_states, dones)\n",
    "            \n",
    "            for agent, s, a, r, s_, d in step_tuple:\n",
    "                agent.memory.add(s, a, r, s_, d)\n",
    "                if ( t % time_steps == 0):\n",
    "                    #agent.step(s, a, r, s_, d)\n",
    "                    agent.step(num_update)\n",
    "            states  = next_states\n",
    "            scores += rewards                                  # update the score (for each agent)\n",
    "            if np.any(dones):                                  # exit loop if episode finished\n",
    "                break\n",
    "                \n",
    "        score = np.mean(scores)        \n",
    "        avg_score.append(score)\n",
    "        scores_deque.append(score)\n",
    "\n",
    "        avg = np.mean(scores_deque)\n",
    "            \n",
    "            \n",
    "        print('\\rEpisode {}\\tAverage Score: {:.2f}\\tScore: {:.2f} \\tMax Score: {:.2f}'.format(i_episode, avg, score, np.max(scores_deque)), end=\"\\n\")\n",
    "\n",
    "        if not env_solv and np.mean(scores_deque) > 30.:\n",
    "            print(\"\\r\\renv __solved__ @ i_episode={i_episode}, w/ avg_score={avg:.2f}\\r\".format(i_episode=i_episode, avg=avg))\n",
    "            env_solv = True\n",
    "        \n",
    "        \n",
    "        if i_episode % chkpt_episodes == 0:\n",
    "            print(\"\\repisodes: {i_episode}\\tavg: {avg:.2f}\".format(i_episode=i_episode, avg=avg))\n",
    "\n",
    "            for idx, agent in enumerate(agents):\n",
    "                chkpt_path_actor = \"actor_\" + str(idx).zfill(len_agents) + \".pth\"\n",
    "                torch.save(agent.actor_local.state_dict(), chkpt_path_actor)\n",
    "\n",
    "                chkpt_path_critic = \"critic_\" + str(idx).zfill(len_agents) + \".pth\"\n",
    "                torch.save(agent.critic_local.state_dict(), chkpt_path_critic)\n",
    "\n",
    "    return avg_score\n",
    "\n",
    "\n"
   ]
  },
  {
   "cell_type": "code",
   "execution_count": null,
   "metadata": {},
   "outputs": [
    {
     "name": "stdout",
     "output_type": "stream",
     "text": [
      "Episode 1\tAverage Score: 0.82\tScore: 0.82 \tMax Score: 0.82\n",
      "Episode 2\tAverage Score: 0.95\tScore: 1.08 \tMax Score: 1.08\n",
      "Episode 3\tAverage Score: 0.99\tScore: 1.08 \tMax Score: 1.08\n",
      "Episode 4\tAverage Score: 1.17\tScore: 1.70 \tMax Score: 1.70\n",
      "Episode 5\tAverage Score: 1.29\tScore: 1.75 \tMax Score: 1.75\n",
      "Episode 6\tAverage Score: 1.36\tScore: 1.75 \tMax Score: 1.75\n",
      "Episode 7\tAverage Score: 1.43\tScore: 1.83 \tMax Score: 1.83\n",
      "Episode 8\tAverage Score: 1.50\tScore: 1.96 \tMax Score: 1.96\n",
      "Episode 9\tAverage Score: 1.55\tScore: 1.96 \tMax Score: 1.96\n",
      "Episode 10\tAverage Score: 1.59\tScore: 1.96 \tMax Score: 1.96\n",
      "Episode 11\tAverage Score: 1.62\tScore: 1.96 \tMax Score: 1.96\n",
      "Episode 12\tAverage Score: 1.65\tScore: 1.96 \tMax Score: 1.96\n",
      "Episode 13\tAverage Score: 1.70\tScore: 2.29 \tMax Score: 2.29\n",
      "Episode 14\tAverage Score: 1.75\tScore: 2.39 \tMax Score: 2.39\n",
      "Episode 15\tAverage Score: 1.79\tScore: 2.39 \tMax Score: 2.39\n",
      "Episode 16\tAverage Score: 1.87\tScore: 3.03 \tMax Score: 3.03\n",
      "Episode 17\tAverage Score: 1.94\tScore: 3.08 \tMax Score: 3.08\n",
      "Episode 18\tAverage Score: 2.00\tScore: 3.08 \tMax Score: 3.08\n",
      "Episode 19\tAverage Score: 2.06\tScore: 3.08 \tMax Score: 3.08\n",
      "Episode 20\tAverage Score: 2.12\tScore: 3.18 \tMax Score: 3.18\n",
      "Episode 21\tAverage Score: 2.17\tScore: 3.18 \tMax Score: 3.18\n",
      "Episode 22\tAverage Score: 2.23\tScore: 3.46 \tMax Score: 3.46\n",
      "Episode 23\tAverage Score: 2.28\tScore: 3.57 \tMax Score: 3.57\n",
      "Episode 24\tAverage Score: 2.34\tScore: 3.57 \tMax Score: 3.57\n",
      "Episode 25\tAverage Score: 2.41\tScore: 4.03 \tMax Score: 4.03\n",
      "Episode 26\tAverage Score: 2.48\tScore: 4.43 \tMax Score: 4.43\n",
      "Episode 27\tAverage Score: 2.56\tScore: 4.43 \tMax Score: 4.43\n",
      "Episode 28\tAverage Score: 2.63\tScore: 4.52 \tMax Score: 4.52\n",
      "Episode 29\tAverage Score: 2.70\tScore: 4.64 \tMax Score: 4.64\n",
      "Episode 30\tAverage Score: 2.76\tScore: 4.64 \tMax Score: 4.64\n",
      "Episode 31\tAverage Score: 2.83\tScore: 4.93 \tMax Score: 4.93\n",
      "Episode 32\tAverage Score: 2.90\tScore: 5.10 \tMax Score: 5.10\n",
      "Episode 33\tAverage Score: 2.97\tScore: 5.10 \tMax Score: 5.10\n",
      "Episode 34\tAverage Score: 3.03\tScore: 5.20 \tMax Score: 5.20\n",
      "Episode 35\tAverage Score: 3.10\tScore: 5.48 \tMax Score: 5.48\n",
      "Episode 36\tAverage Score: 3.17\tScore: 5.48 \tMax Score: 5.48\n",
      "Episode 37\tAverage Score: 3.23\tScore: 5.54 \tMax Score: 5.54\n",
      "Episode 38\tAverage Score: 3.29\tScore: 5.54 \tMax Score: 5.54\n",
      "Episode 39\tAverage Score: 3.35\tScore: 5.54 \tMax Score: 5.54\n",
      "Episode 40\tAverage Score: 3.41\tScore: 5.60 \tMax Score: 5.60\n",
      "Episode 41\tAverage Score: 3.46\tScore: 5.60 \tMax Score: 5.60\n",
      "Episode 42\tAverage Score: 3.51\tScore: 5.60 \tMax Score: 5.60\n",
      "Episode 43\tAverage Score: 3.56\tScore: 5.60 \tMax Score: 5.60\n",
      "Episode 44\tAverage Score: 3.61\tScore: 5.60 \tMax Score: 5.60\n",
      "Episode 45\tAverage Score: 3.65\tScore: 5.60 \tMax Score: 5.60\n",
      "Episode 46\tAverage Score: 3.70\tScore: 5.75 \tMax Score: 5.75\n",
      "Episode 47\tAverage Score: 3.74\tScore: 5.83 \tMax Score: 5.83\n",
      "Episode 48\tAverage Score: 3.79\tScore: 5.83 \tMax Score: 5.83\n",
      "Episode 49\tAverage Score: 3.83\tScore: 6.08 \tMax Score: 6.08\n",
      "Episode 50\tAverage Score: 3.88\tScore: 6.08 \tMax Score: 6.08\n",
      "episodes: 50\tavg: 3.88\n",
      "Episode 51\tAverage Score: 3.92\tScore: 6.08 \tMax Score: 6.08\n",
      "Episode 52\tAverage Score: 3.96\tScore: 6.16 \tMax Score: 6.16\n",
      "Episode 53\tAverage Score: 4.01\tScore: 6.16 \tMax Score: 6.16\n",
      "Episode 54\tAverage Score: 4.05\tScore: 6.16 \tMax Score: 6.16\n",
      "Episode 55\tAverage Score: 4.08\tScore: 6.16 \tMax Score: 6.16\n",
      "Episode 56\tAverage Score: 4.12\tScore: 6.16 \tMax Score: 6.16\n",
      "Episode 57\tAverage Score: 4.16\tScore: 6.16 \tMax Score: 6.16\n",
      "Episode 58\tAverage Score: 4.19\tScore: 6.16 \tMax Score: 6.16\n",
      "Episode 59\tAverage Score: 4.22\tScore: 6.16 \tMax Score: 6.16\n",
      "Episode 60\tAverage Score: 4.26\tScore: 6.16 \tMax Score: 6.16\n",
      "Episode 61\tAverage Score: 4.29\tScore: 6.32 \tMax Score: 6.32\n",
      "Episode 62\tAverage Score: 4.32\tScore: 6.32 \tMax Score: 6.32\n",
      "Episode 63\tAverage Score: 4.35\tScore: 6.32 \tMax Score: 6.32\n",
      "Episode 64\tAverage Score: 4.39\tScore: 6.32 \tMax Score: 6.32\n",
      "Episode 65\tAverage Score: 4.42\tScore: 6.32 \tMax Score: 6.32\n",
      "Episode 66\tAverage Score: 4.44\tScore: 6.32 \tMax Score: 6.32\n",
      "Episode 67\tAverage Score: 4.47\tScore: 6.32 \tMax Score: 6.32\n",
      "Episode 68\tAverage Score: 4.50\tScore: 6.38 \tMax Score: 6.38\n",
      "Episode 69\tAverage Score: 4.53\tScore: 6.38 \tMax Score: 6.38\n",
      "Episode 70\tAverage Score: 4.56\tScore: 6.48 \tMax Score: 6.48\n",
      "Episode 71\tAverage Score: 4.58\tScore: 6.48 \tMax Score: 6.48\n",
      "Episode 72\tAverage Score: 4.61\tScore: 6.48 \tMax Score: 6.48\n",
      "Episode 73\tAverage Score: 4.63\tScore: 6.48 \tMax Score: 6.48\n",
      "Episode 74\tAverage Score: 4.66\tScore: 6.48 \tMax Score: 6.48\n",
      "Episode 75\tAverage Score: 4.68\tScore: 6.48 \tMax Score: 6.48\n",
      "Episode 76\tAverage Score: 4.71\tScore: 6.76 \tMax Score: 6.76\n"
     ]
    }
   ],
   "source": [
    "scores = ddpg()"
   ]
  },
  {
   "cell_type": "code",
   "execution_count": null,
   "metadata": {},
   "outputs": [],
   "source": [
    "fig = plt.figure()\n",
    "ax = fig.add_subplot(111)\n",
    "plt.plot(np.arange(1, len(scores)+1), scores)\n",
    "plt.ylabel('Score')\n",
    "plt.xlabel('Episode #')\n",
    "plt.show()"
   ]
  },
  {
   "cell_type": "code",
   "execution_count": null,
   "metadata": {},
   "outputs": [],
   "source": [
    "env.close()"
   ]
  }
 ],
 "metadata": {
  "kernelspec": {
   "display_name": "Python 3",
   "language": "python",
   "name": "python3"
  },
  "language_info": {
   "codemirror_mode": {
    "name": "ipython",
    "version": 3
   },
   "file_extension": ".py",
   "mimetype": "text/x-python",
   "name": "python",
   "nbconvert_exporter": "python",
   "pygments_lexer": "ipython3",
   "version": "3.6.6"
  }
 },
 "nbformat": 4,
 "nbformat_minor": 2
}
